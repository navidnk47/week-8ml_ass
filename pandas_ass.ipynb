{
 "cells": [
  {
   "cell_type": "code",
   "execution_count": null,
   "id": "fe598cd7-50ce-4a5f-aaf8-44d9a55cdd86",
   "metadata": {},
   "outputs": [],
   "source": [
    "## Q1. Create a Pandas Series that contains the following data: 4, 8, 15, 16, 23, and 42. Then, print the series."
   ]
  },
  {
   "cell_type": "code",
   "execution_count": 1,
   "id": "c0bd802e-6af2-40a9-8ba3-68f0c8a152b0",
   "metadata": {},
   "outputs": [],
   "source": [
    "import pandas as pd"
   ]
  },
  {
   "cell_type": "code",
   "execution_count": 4,
   "id": "0ebd9436-9b61-4489-ab64-96c539f4a860",
   "metadata": {},
   "outputs": [],
   "source": [
    "data = [4, 8, 15, 16, 23, 42]\n",
    "series = pd.Series(data)"
   ]
  },
  {
   "cell_type": "code",
   "execution_count": 6,
   "id": "1e9aced9-6d18-4889-a1d1-61be9a6579cb",
   "metadata": {},
   "outputs": [
    {
     "name": "stdout",
     "output_type": "stream",
     "text": [
      "0     4\n",
      "1     8\n",
      "2    15\n",
      "3    16\n",
      "4    23\n",
      "5    42\n",
      "dtype: int64\n"
     ]
    }
   ],
   "source": [
    "print(series)"
   ]
  },
  {
   "cell_type": "code",
   "execution_count": null,
   "id": "6721c7d9-4ded-4152-ada9-30c8caf4c6f6",
   "metadata": {},
   "outputs": [],
   "source": []
  },
  {
   "cell_type": "code",
   "execution_count": null,
   "id": "f6a15174-f960-49b0-b527-2153874ef95f",
   "metadata": {},
   "outputs": [],
   "source": [
    "##Q2. Create a variable of list type containing 10 elements in it, and apply pandas.Series function on the\n",
    "variable print it."
   ]
  },
  {
   "cell_type": "code",
   "execution_count": null,
   "id": "09a9da50-a223-4bda-82ed-00a5684cd659",
   "metadata": {},
   "outputs": [],
   "source": [
    "import pandas as pd"
   ]
  },
  {
   "cell_type": "code",
   "execution_count": 8,
   "id": "64a23c8e-ee5c-420b-86d2-8e2e9fdbefca",
   "metadata": {},
   "outputs": [],
   "source": [
    "data=[11,12,13,14,15,16,17,18,19,20]\n",
    "series=pd.Series(data)"
   ]
  },
  {
   "cell_type": "code",
   "execution_count": 10,
   "id": "0dbeb2f5-e207-4582-b728-6fb862b99e97",
   "metadata": {},
   "outputs": [
    {
     "name": "stdout",
     "output_type": "stream",
     "text": [
      "0    11\n",
      "1    12\n",
      "2    13\n",
      "3    14\n",
      "4    15\n",
      "5    16\n",
      "6    17\n",
      "7    18\n",
      "8    19\n",
      "9    20\n",
      "dtype: int64\n"
     ]
    }
   ],
   "source": [
    "print(series)"
   ]
  },
  {
   "cell_type": "code",
   "execution_count": null,
   "id": "f0f9c354-e7bd-40e4-880b-a7c45f0a9450",
   "metadata": {},
   "outputs": [],
   "source": []
  },
  {
   "cell_type": "code",
   "execution_count": null,
   "id": "2c44c30d-6c62-461a-8923-fc455473476e",
   "metadata": {},
   "outputs": [],
   "source": [
    "Q3. Create a Pandas DataFrame that contains the following data:\n",
    "\n",
    "    Name             Age               Gender\n",
    "    \n",
    "  Alice                25                Female\n",
    "  Bob                  30                Male\n",
    "  Claire               27                Female\n",
    "\n",
    "Then, print the DataFrame."
   ]
  },
  {
   "cell_type": "code",
   "execution_count": 12,
   "id": "f80aba64-3713-471d-8248-71530847d449",
   "metadata": {},
   "outputs": [],
   "source": [
    "import pandas as pd"
   ]
  },
  {
   "cell_type": "code",
   "execution_count": 13,
   "id": "4639dd87-ea74-4e5f-bd28-4de9ee49d3c2",
   "metadata": {},
   "outputs": [],
   "source": [
    "data = {\n",
    "    'Name': ['Alice', 'Bob', 'Claire'],\n",
    "    'Age': [25, 30, 27],\n",
    "    'Gender': ['Female', 'Male', 'Female']\n",
    "}"
   ]
  },
  {
   "cell_type": "code",
   "execution_count": 14,
   "id": "f450fb35-8bea-4db0-b10c-0d65fa65f606",
   "metadata": {},
   "outputs": [],
   "source": [
    "df = pd.DataFrame(data)"
   ]
  },
  {
   "cell_type": "code",
   "execution_count": 15,
   "id": "25be65b0-bd9a-470d-8222-e5f4f4c27320",
   "metadata": {},
   "outputs": [
    {
     "name": "stdout",
     "output_type": "stream",
     "text": [
      "     Name  Age  Gender\n",
      "0   Alice   25  Female\n",
      "1     Bob   30    Male\n",
      "2  Claire   27  Female\n"
     ]
    }
   ],
   "source": [
    "print(df)"
   ]
  },
  {
   "cell_type": "code",
   "execution_count": null,
   "id": "f82c4826-f6e2-42ee-a9e9-65999ddfd49b",
   "metadata": {},
   "outputs": [],
   "source": []
  },
  {
   "cell_type": "code",
   "execution_count": null,
   "id": "e75465c0-a8e5-4867-b18a-206cde98ee72",
   "metadata": {},
   "outputs": [],
   "source": [
    "## Q4. What is ‘DataFrame’ in pandas and how is it different from pandas.series? Explain with an example."
   ]
  },
  {
   "cell_type": "code",
   "execution_count": 16,
   "id": "c7bf5a33-081a-433c-8a10-32c390fc1674",
   "metadata": {},
   "outputs": [],
   "source": [
    "import pandas as pd"
   ]
  },
  {
   "cell_type": "code",
   "execution_count": 22,
   "id": "e20cca46-6e9c-4a17-a954-c3bcbc1b5cdb",
   "metadata": {},
   "outputs": [],
   "source": [
    "# Example 1: Creating a DataFrame\n",
    "data = {\n",
    "    'Name': ['sudhanshu', 'krish', 'pandey'],\n",
    "    'Age': [25, 30, 27],\n",
    "    'Gender': ['Female', 'Male', 'Female']\n",
    "}"
   ]
  },
  {
   "cell_type": "code",
   "execution_count": 23,
   "id": "fa8eb9f2-04fe-4923-b7db-1fdf3219d2d5",
   "metadata": {},
   "outputs": [],
   "source": [
    "df = pd.DataFrame(data)"
   ]
  },
  {
   "cell_type": "code",
   "execution_count": 24,
   "id": "037d7e1a-de08-4b7f-be5f-b9e1fa870ecf",
   "metadata": {},
   "outputs": [
    {
     "name": "stdout",
     "output_type": "stream",
     "text": [
      "DataFrame:\n"
     ]
    }
   ],
   "source": [
    "# Printing the DataFrame\n",
    "print(\"DataFrame:\")"
   ]
  },
  {
   "cell_type": "code",
   "execution_count": 25,
   "id": "c04d33eb-78fd-465e-9e3e-2ab39eb1fb4b",
   "metadata": {},
   "outputs": [
    {
     "name": "stdout",
     "output_type": "stream",
     "text": [
      "        Name  Age  Gender\n",
      "0  sudhanshu   25  Female\n",
      "1      krish   30    Male\n",
      "2     pandey   27  Female\n"
     ]
    }
   ],
   "source": [
    "print(df)"
   ]
  },
  {
   "cell_type": "code",
   "execution_count": 26,
   "id": "04d5cacd-6150-4005-9d22-03ef5315e092",
   "metadata": {},
   "outputs": [],
   "source": [
    "# Example 2: Creating a Series\n",
    "ages = pd.Series([25, 30, 27])"
   ]
  },
  {
   "cell_type": "code",
   "execution_count": 27,
   "id": "7e553128-f49f-46f4-a202-f5a14235ae33",
   "metadata": {},
   "outputs": [
    {
     "name": "stdout",
     "output_type": "stream",
     "text": [
      "Series:\n"
     ]
    }
   ],
   "source": [
    "print(\"Series:\")"
   ]
  },
  {
   "cell_type": "code",
   "execution_count": 28,
   "id": "b2d6c3ec-1086-409f-89e0-cc04733f8684",
   "metadata": {},
   "outputs": [
    {
     "name": "stdout",
     "output_type": "stream",
     "text": [
      "0    25\n",
      "1    30\n",
      "2    27\n",
      "dtype: int64\n"
     ]
    }
   ],
   "source": [
    "print(ages)"
   ]
  },
  {
   "cell_type": "code",
   "execution_count": null,
   "id": "5e183158-bc03-450b-baad-21729fed7907",
   "metadata": {},
   "outputs": [],
   "source": []
  },
  {
   "cell_type": "code",
   "execution_count": null,
   "id": "91f648e2-c2c9-4b43-a683-1fa5e1869006",
   "metadata": {},
   "outputs": [],
   "source": [
    "##Q5. What are some common functions you can use to manipulate data in a Pandas DataFrame? Can\n",
    "you give an example of when you might use one of these functions?"
   ]
  },
  {
   "cell_type": "code",
   "execution_count": 29,
   "id": "e5f74bb4-b3c8-4a96-8d37-bc4fd2088a5f",
   "metadata": {},
   "outputs": [],
   "source": [
    "import pandas as pd"
   ]
  },
  {
   "cell_type": "code",
   "execution_count": 30,
   "id": "325a8309-f03b-4e83-b2dc-9005058e5396",
   "metadata": {},
   "outputs": [],
   "source": [
    "data = {\n",
    "    'Name': ['Alice', 'Bob', 'Claire', 'David', 'Eva'],\n",
    "    'Age': [25, 30, 27, 22, 28],\n",
    "    'Gender': ['Female', 'Male', 'Female', 'Male', 'Female']\n",
    "}"
   ]
  },
  {
   "cell_type": "code",
   "execution_count": 31,
   "id": "18b8b756-5f2d-4f92-aa11-ea7e9dc75337",
   "metadata": {},
   "outputs": [],
   "source": [
    "df = pd.DataFrame(data)"
   ]
  },
  {
   "cell_type": "code",
   "execution_count": 32,
   "id": "087a8880-9924-48e7-ba08-093aeebc86c9",
   "metadata": {},
   "outputs": [
    {
     "name": "stdout",
     "output_type": "stream",
     "text": [
      "     Name  Age  Gender\n",
      "0   Alice   25  Female\n",
      "1     Bob   30    Male\n",
      "2  Claire   27  Female\n"
     ]
    }
   ],
   "source": [
    "print(df.head(3))"
   ]
  },
  {
   "cell_type": "code",
   "execution_count": 33,
   "id": "30b4d594-af1c-40d4-b290-ad83e08caf95",
   "metadata": {},
   "outputs": [
    {
     "name": "stdout",
     "output_type": "stream",
     "text": [
      "     Name  Age  Gender\n",
      "0   Alice   25  Female\n",
      "1     Bob   30    Male\n",
      "2  Claire   27  Female\n"
     ]
    }
   ],
   "source": [
    "print(df.head(3))"
   ]
  },
  {
   "cell_type": "code",
   "execution_count": null,
   "id": "2884789a-0d7c-45b0-ab34-b0689ea7d093",
   "metadata": {},
   "outputs": [],
   "source": []
  },
  {
   "cell_type": "code",
   "execution_count": null,
   "id": "50bf7aad-2330-4027-b4ab-21ba8b2a4aa3",
   "metadata": {},
   "outputs": [],
   "source": [
    "##Q6. Which of the following is mutable in nature Series, DataFrame, Panel?"
   ]
  },
  {
   "cell_type": "code",
   "execution_count": 34,
   "id": "12861ed5-38e2-4dee-b04a-38e099116051",
   "metadata": {},
   "outputs": [],
   "source": [
    "data = [['Alice', 10], ['Bob', 20], ['Carol', 30]]"
   ]
  },
  {
   "cell_type": "code",
   "execution_count": 35,
   "id": "20a28cc3-40e5-49fd-9f24-0d912f6494a0",
   "metadata": {},
   "outputs": [],
   "source": [
    "df = pd.DataFrame(data, columns=['Name', 'Age'])"
   ]
  },
  {
   "cell_type": "code",
   "execution_count": 36,
   "id": "fb93f1b3-ffb5-4af0-ba87-510123b0749e",
   "metadata": {},
   "outputs": [
    {
     "name": "stdout",
     "output_type": "stream",
     "text": [
      "    Name  Age\n",
      "0  Alice   10\n",
      "1    Bob   20\n",
      "2  Carol   30\n"
     ]
    }
   ],
   "source": [
    "print(df)"
   ]
  },
  {
   "cell_type": "code",
   "execution_count": null,
   "id": "85dbff20-fae3-47ec-b334-0f4ab3413e87",
   "metadata": {},
   "outputs": [],
   "source": []
  },
  {
   "cell_type": "code",
   "execution_count": null,
   "id": "2ddadc30-a8f8-44ad-93ec-83b0378b58e0",
   "metadata": {},
   "outputs": [],
   "source": [
    "## Q7. Create a DataFrame using multiple Series. Explain with an example."
   ]
  },
  {
   "cell_type": "code",
   "execution_count": 37,
   "id": "f797fea9-d2c9-4946-986f-e7e9066ea6c7",
   "metadata": {},
   "outputs": [],
   "source": [
    "import pandas as pd"
   ]
  },
  {
   "cell_type": "code",
   "execution_count": 38,
   "id": "438abf95-be88-45dc-8e24-e2952f1e2a88",
   "metadata": {},
   "outputs": [],
   "source": [
    "name_series = pd.Series(['Alice', 'Bob', 'Claire'])\n",
    "age_series = pd.Series([25, 30, 27])\n",
    "gender_series = pd.Series(['Female', 'Male', 'Female'])"
   ]
  },
  {
   "cell_type": "code",
   "execution_count": 39,
   "id": "7fa6c974-522f-45d9-84fc-8e72c9860e73",
   "metadata": {},
   "outputs": [],
   "source": [
    "data = {\n",
    "    'Name': name_series,\n",
    "    'Age': age_series,\n",
    "    'Gender': gender_series\n",
    "}"
   ]
  },
  {
   "cell_type": "code",
   "execution_count": 40,
   "id": "a3254702-d0cb-43b2-a044-a4e9569dd91b",
   "metadata": {},
   "outputs": [],
   "source": [
    "df = pd.DataFrame(data)"
   ]
  },
  {
   "cell_type": "code",
   "execution_count": 41,
   "id": "a4c80d4c-4c20-496b-8dc3-5f0cf50ae402",
   "metadata": {},
   "outputs": [
    {
     "name": "stdout",
     "output_type": "stream",
     "text": [
      "     Name  Age  Gender\n",
      "0   Alice   25  Female\n",
      "1     Bob   30    Male\n",
      "2  Claire   27  Female\n"
     ]
    }
   ],
   "source": [
    "print(df)"
   ]
  }
 ],
 "metadata": {
  "kernelspec": {
   "display_name": "Python 3 (ipykernel)",
   "language": "python",
   "name": "python3"
  },
  "language_info": {
   "codemirror_mode": {
    "name": "ipython",
    "version": 3
   },
   "file_extension": ".py",
   "mimetype": "text/x-python",
   "name": "python",
   "nbconvert_exporter": "python",
   "pygments_lexer": "ipython3",
   "version": "3.10.8"
  }
 },
 "nbformat": 4,
 "nbformat_minor": 5
}
